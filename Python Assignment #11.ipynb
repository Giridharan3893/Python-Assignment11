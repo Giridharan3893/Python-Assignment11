{
 "cells": [
  {
   "cell_type": "code",
   "execution_count": 10,
   "id": "e10c3189",
   "metadata": {},
   "outputs": [
    {
     "name": "stdout",
     "output_type": "stream",
     "text": [
      "Task 1:-\n",
      "\n",
      "Keys are\n",
      "1 2 3 4 5 6 "
     ]
    }
   ],
   "source": [
    "## Answer 1:\n",
    "\n",
    "def dictionairy():\n",
    "      \n",
    " key_value ={}   \n",
    " \n",
    "\n",
    " key_value[2] = 56      \n",
    " key_value[1] = 2\n",
    " key_value[5] = 12\n",
    " key_value[4] = 24\n",
    " key_value[6] = 18     \n",
    " key_value[3] = 323\n",
    " \n",
    " print (\"Task 1:-\\n\")\n",
    " print (\"Keys are\")\n",
    "  \n",
    "\n",
    " for i in sorted (key_value.keys()) :\n",
    "     print(i, end = \" \")\n",
    " \n",
    "def main():\n",
    "    \n",
    "    dictionairy()            \n",
    "     \n",
    "\n",
    "if __name__==\"__main__\":     \n",
    "    main()"
   ]
  },
  {
   "cell_type": "code",
   "execution_count": 11,
   "id": "907618da",
   "metadata": {},
   "outputs": [
    {
     "name": "stdout",
     "output_type": "stream",
     "text": [
      "0091\n",
      "Not Found\n"
     ]
    }
   ],
   "source": [
    "## Answer 2:\n",
    "\n",
    "country_code = {'India' : '0091',\n",
    "                'Australia' : '0025',\n",
    "                'Nepal' : '00977'}\n",
    " \n",
    "print(country_code.get('India', 'Not Found'))\n",
    "\n",
    "print(country_code.get('Japan', 'Not Found'))"
   ]
  },
  {
   "cell_type": "code",
   "execution_count": 12,
   "id": "905e48d3",
   "metadata": {},
   "outputs": [
    {
     "name": "stdout",
     "output_type": "stream",
     "text": [
      "{(10, 20, 30): 0, (5, 2, 4): 3}\n"
     ]
    }
   ],
   "source": [
    "## Answer 3:\n",
    "\n",
    "import random as rn\n",
    "dict = {}\n",
    "x, y, z = 10, 20, 30\n",
    "dict[x, y, z] = x + y - z;\n",
    "\n",
    "x, y, z = 5, 2, 4\n",
    "dict[x, y, z] = x + y - z;\n",
    "\n",
    "print(dict)"
   ]
  },
  {
   "cell_type": "code",
   "execution_count": 13,
   "id": "80c748b2",
   "metadata": {},
   "outputs": [
    {
     "name": "stdout",
     "output_type": "stream",
     "text": [
      "cat tac act dog god \n"
     ]
    }
   ],
   "source": [
    "## Answer 4:\n",
    "\n",
    "def allAnagram(input):\n",
    "    dict = {}\n",
    "    for strVal in input:\n",
    "        key = ''.join(sorted(strVal))\n",
    "        if key in dict.keys():\n",
    "            dict[key].append(strVal)\n",
    "        else:\n",
    "            dict[key] = []\n",
    "            dict[key].append(strVal)\n",
    "    output = \"\"\n",
    "    for key,value in dict.items():\n",
    "        output = output + ' '.join(value) + ' '\n",
    " \n",
    "    return output\n",
    "if __name__ == \"__main__\":\n",
    "    input=['cat', 'dog', 'tac', 'god', 'act']\n",
    "    print (allAnagram(input))"
   ]
  },
  {
   "cell_type": "code",
   "execution_count": 15,
   "id": "26964432",
   "metadata": {},
   "outputs": [
    {
     "name": "stdout",
     "output_type": "stream",
     "text": [
      "o\n"
     ]
    }
   ],
   "source": [
    "## Answer 5:\n",
    "\n",
    "from collections import OrderedDict \n",
    "  \n",
    "def kthRepeating(input,k):  \n",
    "    dict=OrderedDict.fromkeys(input,0) \n",
    "    for ch in input: \n",
    "        dict[ch]+=1\n",
    "    nonRepeatDict = [key for (key,value) in dict.items() if value==1] \n",
    "    if len(nonRepeatDict) < k: \n",
    "        return 'Less than k non-repeating characters in input.' \n",
    "    else: \n",
    "        return nonRepeatDict[k-1] \n",
    "\n",
    "if __name__ == \"__main__\": \n",
    "    input = \"TitforTat\"\n",
    "    k = 3\n",
    "    print (kthRepeating(input, k)) "
   ]
  },
  {
   "cell_type": "code",
   "execution_count": 18,
   "id": "cdf92dd0",
   "metadata": {},
   "outputs": [
    {
     "name": "stdout",
     "output_type": "stream",
     "text": [
      "Yes\n"
     ]
    }
   ],
   "source": [
    "## Answer 6:\n",
    "\n",
    "from collections import Counter\n",
    "  \n",
    "def checkAnagram(num1,num2):\n",
    "    bin1 = bin(num1)[2:]\n",
    "    bin2 = bin(num2)[2:]\n",
    "    zeros = abs(len(bin1)-len(bin2))\n",
    "    if (len(bin1)>len(bin2)):\n",
    "         bin2 = zeros * '0' + bin2\n",
    "    else:\n",
    "         bin1 = zeros * '0' + bin1\n",
    "    dict1 = Counter(bin1)\n",
    "    dict2 = Counter(bin2)\n",
    "  \n",
    "    if dict1 == dict2:\n",
    "         print('Yes')\n",
    "    else:\n",
    "         print('No')\n",
    "\n",
    "if __name__ == \"__main__\":\n",
    "    num1 = 8\n",
    "    num2 = 4\n",
    "    checkAnagram(num1,num2)"
   ]
  },
  {
   "cell_type": "code",
   "execution_count": 19,
   "id": "3d946438",
   "metadata": {},
   "outputs": [
    {
     "name": "stdout",
     "output_type": "stream",
     "text": [
      "3\n",
      "2\n"
     ]
    }
   ],
   "source": [
    "## Answer 7:\n",
    "\n",
    "def largestAnagramSet(arr, n) :\n",
    " \n",
    "    maxSize = 0\n",
    "    count = {}\n",
    " \n",
    "    for i in range(n) :\n",
    " \n",
    "        arr[i] = ''.join(sorted(arr[i]))\n",
    "\n",
    "        if arr[i] in count :\n",
    "            count[arr[i]] += 1\n",
    "        else :\n",
    "            count[arr[i]] = 1\n",
    "        maxSize = max(maxSize, count[arr[i]])\n",
    " \n",
    "    return maxSize\n",
    " \n",
    "arr = [ \"ant\", \"magenta\", \"magnate\", \"tan\", \"gnamate\" ]\n",
    "n = len(arr)\n",
    "print(largestAnagramSet(arr, n))\n",
    "\n",
    "arr1 = [ \"cars\", \"bikes\", \"arcs\", \"steer\" ]\n",
    "n = len(arr1)\n",
    "print(largestAnagramSet(arr1, n))"
   ]
  },
  {
   "cell_type": "code",
   "execution_count": 24,
   "id": "9a81e4c9",
   "metadata": {},
   "outputs": [
    {
     "name": "stdout",
     "output_type": "stream",
     "text": [
      "Python is great and Java also\n"
     ]
    }
   ],
   "source": [
    "## Answer 8:\n",
    "\n",
    "s = \"Python is great and Java is also great\"\n",
    "l = s.split()\n",
    "k = []\n",
    "for i in l:\n",
    "    if (s.count(i)>=1 and (i not in k)):\n",
    "        k.append(i)\n",
    "print(' '.join(k))"
   ]
  },
  {
   "cell_type": "code",
   "execution_count": 33,
   "id": "fe2acb01",
   "metadata": {},
   "outputs": [
    {
     "name": "stdout",
     "output_type": "stream",
     "text": [
      " 1 :  5\n",
      " 5 :  2\n",
      " 3 :  3\n",
      " 4 :  3\n",
      " 2 :  4\n"
     ]
    }
   ],
   "source": [
    "## Answer 10:\n",
    "\n",
    "def CountFrequency(my_list):\n",
    "    freq = {}\n",
    "    for item in my_list:\n",
    "        if (item in freq):\n",
    "            freq[item] += 1\n",
    "        else:\n",
    "            freq[item] = 1\n",
    " \n",
    "    for key, value in freq.items():\n",
    "        print (\"% d : % d\"%(key, value))\n",
    "if __name__ == \"__main__\":\n",
    "    my_list =[1, 1, 1, 5, 5, 3, 1, 3, 3, 1, 4, 4, 4, 2, 2, 2, 2]\n",
    " \n",
    "    CountFrequency(my_list)"
   ]
  },
  {
   "cell_type": "code",
   "execution_count": null,
   "id": "512fc7a9",
   "metadata": {},
   "outputs": [],
   "source": []
  }
 ],
 "metadata": {
  "kernelspec": {
   "display_name": "Python 3 (ipykernel)",
   "language": "python",
   "name": "python3"
  },
  "language_info": {
   "codemirror_mode": {
    "name": "ipython",
    "version": 3
   },
   "file_extension": ".py",
   "mimetype": "text/x-python",
   "name": "python",
   "nbconvert_exporter": "python",
   "pygments_lexer": "ipython3",
   "version": "3.9.7"
  }
 },
 "nbformat": 4,
 "nbformat_minor": 5
}
